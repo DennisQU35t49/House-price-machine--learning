{
 "cells": [
  {
   "cell_type": "code",
   "execution_count": 68,
   "metadata": {},
   "outputs": [
    {
     "data": {
      "text/html": [
       "<div>\n",
       "<style scoped>\n",
       "    .dataframe tbody tr th:only-of-type {\n",
       "        vertical-align: middle;\n",
       "    }\n",
       "\n",
       "    .dataframe tbody tr th {\n",
       "        vertical-align: top;\n",
       "    }\n",
       "\n",
       "    .dataframe thead th {\n",
       "        text-align: right;\n",
       "    }\n",
       "</style>\n",
       "<table border=\"1\" class=\"dataframe\">\n",
       "  <thead>\n",
       "    <tr style=\"text-align: right;\">\n",
       "      <th></th>\n",
       "      <th>price</th>\n",
       "      <th>lotsize</th>\n",
       "      <th>bedrooms</th>\n",
       "      <th>bathrooms</th>\n",
       "      <th>stories</th>\n",
       "      <th>driveway</th>\n",
       "      <th>recreation</th>\n",
       "      <th>fullbase</th>\n",
       "      <th>gasheat</th>\n",
       "      <th>aircon</th>\n",
       "      <th>garage</th>\n",
       "      <th>prefer</th>\n",
       "    </tr>\n",
       "  </thead>\n",
       "  <tbody>\n",
       "    <tr>\n",
       "      <th>0</th>\n",
       "      <td>42000</td>\n",
       "      <td>5850</td>\n",
       "      <td>3</td>\n",
       "      <td>1</td>\n",
       "      <td>2</td>\n",
       "      <td>1</td>\n",
       "      <td>0</td>\n",
       "      <td>1</td>\n",
       "      <td>0</td>\n",
       "      <td>0</td>\n",
       "      <td>1</td>\n",
       "      <td>0</td>\n",
       "    </tr>\n",
       "    <tr>\n",
       "      <th>1</th>\n",
       "      <td>38500</td>\n",
       "      <td>4000</td>\n",
       "      <td>2</td>\n",
       "      <td>1</td>\n",
       "      <td>1</td>\n",
       "      <td>1</td>\n",
       "      <td>0</td>\n",
       "      <td>0</td>\n",
       "      <td>0</td>\n",
       "      <td>0</td>\n",
       "      <td>0</td>\n",
       "      <td>0</td>\n",
       "    </tr>\n",
       "    <tr>\n",
       "      <th>2</th>\n",
       "      <td>49500</td>\n",
       "      <td>3060</td>\n",
       "      <td>3</td>\n",
       "      <td>1</td>\n",
       "      <td>1</td>\n",
       "      <td>1</td>\n",
       "      <td>0</td>\n",
       "      <td>0</td>\n",
       "      <td>0</td>\n",
       "      <td>0</td>\n",
       "      <td>0</td>\n",
       "      <td>0</td>\n",
       "    </tr>\n",
       "    <tr>\n",
       "      <th>3</th>\n",
       "      <td>60500</td>\n",
       "      <td>6650</td>\n",
       "      <td>3</td>\n",
       "      <td>1</td>\n",
       "      <td>2</td>\n",
       "      <td>1</td>\n",
       "      <td>1</td>\n",
       "      <td>0</td>\n",
       "      <td>0</td>\n",
       "      <td>0</td>\n",
       "      <td>0</td>\n",
       "      <td>0</td>\n",
       "    </tr>\n",
       "    <tr>\n",
       "      <th>4</th>\n",
       "      <td>61000</td>\n",
       "      <td>6360</td>\n",
       "      <td>2</td>\n",
       "      <td>1</td>\n",
       "      <td>1</td>\n",
       "      <td>1</td>\n",
       "      <td>0</td>\n",
       "      <td>0</td>\n",
       "      <td>0</td>\n",
       "      <td>0</td>\n",
       "      <td>0</td>\n",
       "      <td>0</td>\n",
       "    </tr>\n",
       "    <tr>\n",
       "      <th>...</th>\n",
       "      <td>...</td>\n",
       "      <td>...</td>\n",
       "      <td>...</td>\n",
       "      <td>...</td>\n",
       "      <td>...</td>\n",
       "      <td>...</td>\n",
       "      <td>...</td>\n",
       "      <td>...</td>\n",
       "      <td>...</td>\n",
       "      <td>...</td>\n",
       "      <td>...</td>\n",
       "      <td>...</td>\n",
       "    </tr>\n",
       "    <tr>\n",
       "      <th>541</th>\n",
       "      <td>91500</td>\n",
       "      <td>4800</td>\n",
       "      <td>3</td>\n",
       "      <td>2</td>\n",
       "      <td>4</td>\n",
       "      <td>1</td>\n",
       "      <td>1</td>\n",
       "      <td>0</td>\n",
       "      <td>0</td>\n",
       "      <td>1</td>\n",
       "      <td>0</td>\n",
       "      <td>0</td>\n",
       "    </tr>\n",
       "    <tr>\n",
       "      <th>542</th>\n",
       "      <td>94000</td>\n",
       "      <td>6000</td>\n",
       "      <td>3</td>\n",
       "      <td>2</td>\n",
       "      <td>4</td>\n",
       "      <td>1</td>\n",
       "      <td>0</td>\n",
       "      <td>0</td>\n",
       "      <td>0</td>\n",
       "      <td>1</td>\n",
       "      <td>0</td>\n",
       "      <td>0</td>\n",
       "    </tr>\n",
       "    <tr>\n",
       "      <th>543</th>\n",
       "      <td>103000</td>\n",
       "      <td>6000</td>\n",
       "      <td>3</td>\n",
       "      <td>2</td>\n",
       "      <td>4</td>\n",
       "      <td>1</td>\n",
       "      <td>1</td>\n",
       "      <td>0</td>\n",
       "      <td>0</td>\n",
       "      <td>1</td>\n",
       "      <td>1</td>\n",
       "      <td>0</td>\n",
       "    </tr>\n",
       "    <tr>\n",
       "      <th>544</th>\n",
       "      <td>105000</td>\n",
       "      <td>6000</td>\n",
       "      <td>3</td>\n",
       "      <td>2</td>\n",
       "      <td>2</td>\n",
       "      <td>1</td>\n",
       "      <td>1</td>\n",
       "      <td>0</td>\n",
       "      <td>0</td>\n",
       "      <td>1</td>\n",
       "      <td>1</td>\n",
       "      <td>0</td>\n",
       "    </tr>\n",
       "    <tr>\n",
       "      <th>545</th>\n",
       "      <td>105000</td>\n",
       "      <td>6000</td>\n",
       "      <td>3</td>\n",
       "      <td>1</td>\n",
       "      <td>2</td>\n",
       "      <td>1</td>\n",
       "      <td>0</td>\n",
       "      <td>0</td>\n",
       "      <td>0</td>\n",
       "      <td>1</td>\n",
       "      <td>1</td>\n",
       "      <td>0</td>\n",
       "    </tr>\n",
       "  </tbody>\n",
       "</table>\n",
       "<p>546 rows × 12 columns</p>\n",
       "</div>"
      ],
      "text/plain": [
       "      price  lotsize  bedrooms  bathrooms  stories  driveway  recreation  \\\n",
       "0     42000     5850         3          1        2         1           0   \n",
       "1     38500     4000         2          1        1         1           0   \n",
       "2     49500     3060         3          1        1         1           0   \n",
       "3     60500     6650         3          1        2         1           1   \n",
       "4     61000     6360         2          1        1         1           0   \n",
       "..      ...      ...       ...        ...      ...       ...         ...   \n",
       "541   91500     4800         3          2        4         1           1   \n",
       "542   94000     6000         3          2        4         1           0   \n",
       "543  103000     6000         3          2        4         1           1   \n",
       "544  105000     6000         3          2        2         1           1   \n",
       "545  105000     6000         3          1        2         1           0   \n",
       "\n",
       "     fullbase  gasheat  aircon  garage  prefer  \n",
       "0           1        0       0       1       0  \n",
       "1           0        0       0       0       0  \n",
       "2           0        0       0       0       0  \n",
       "3           0        0       0       0       0  \n",
       "4           0        0       0       0       0  \n",
       "..        ...      ...     ...     ...     ...  \n",
       "541         0        0       1       0       0  \n",
       "542         0        0       1       0       0  \n",
       "543         0        0       1       1       0  \n",
       "544         0        0       1       1       0  \n",
       "545         0        0       1       1       0  \n",
       "\n",
       "[546 rows x 12 columns]"
      ]
     },
     "execution_count": 68,
     "metadata": {},
     "output_type": "execute_result"
    }
   ],
   "source": [
    "#Load the data in your code\n",
    "import pandas as pd\n",
    "\n",
    "data = pd.read_csv(r\"C:\\Users\\Dennis\\Desktop\\Machine learning\\HousePrices.csv\")\n",
    "data"
   ]
  },
  {
   "cell_type": "markdown",
   "metadata": {},
   "source": [
    "Mean, median, max and mean values of columns whose their data type is integers"
   ]
  },
  {
   "cell_type": "code",
   "execution_count": 69,
   "metadata": {},
   "outputs": [
    {
     "name": "stdout",
     "output_type": "stream",
     "text": [
      "The mean of the price of houses is: 68121.59706959708\n",
      "The median of the price of the houses is: 62000.0\n",
      "The maximum price of the Houses is: 190000\n",
      "The minimum price of the Houses is: 25000\n"
     ]
    }
   ],
   "source": [
    "#Price column\n",
    "#Mean\n",
    "mean_price = data['price'].mean()\n",
    "print(\"The mean of the price of houses is:\", mean_price)\n",
    "\n",
    "#Median\n",
    "median_price = data['price'].median()\n",
    "print(\"The median of the price of the houses is:\",median_price)\n",
    "\n",
    "# maximum\n",
    "Max_price = data['price'].max()\n",
    "print(\"The maximum price of the Houses is:\",Max_price)\n",
    "\n",
    "#Minimum\n",
    "Min_price = data['price'].min()\n",
    "print(\"The minimum price of the Houses is:\",Min_price)"
   ]
  },
  {
   "cell_type": "code",
   "execution_count": 70,
   "metadata": {},
   "outputs": [
    {
     "name": "stdout",
     "output_type": "stream",
     "text": [
      "The mean of the lotsize of houses is: 5150.2655677655675\n",
      "The median of the lotsize of the houses is: 4600.0\n",
      "The maximum lotsize of the Houses is: 16200\n",
      "The minimum lotsize of the Houses is: 1650\n"
     ]
    }
   ],
   "source": [
    "#Lotsize column\n",
    "#Mean\n",
    "mean_lotsize = data['lotsize'].mean()\n",
    "print(\"The mean of the lotsize of houses is:\", mean_lotsize)\n",
    "#Median\n",
    "median_lotsize = data['lotsize'].median()\n",
    "print(\"The median of the lotsize of the houses is:\",median_lotsize)\n",
    "\n",
    "# maximum\n",
    "Max_lotsize = data['lotsize'].max()\n",
    "print(\"The maximum lotsize of the Houses is:\",Max_lotsize)\n",
    "\n",
    "#Minimum\n",
    "Min_lotsize = data['lotsize'].min()\n",
    "print(\"The minimum lotsize of the Houses is:\",Min_lotsize)"
   ]
  },
  {
   "cell_type": "code",
   "execution_count": 71,
   "metadata": {},
   "outputs": [
    {
     "name": "stdout",
     "output_type": "stream",
     "text": [
      "The mean of the bedrooms of houses is: 2.9652014652014653\n",
      "The median of the bedrooms of the houses is: 3.0\n",
      "The maximum bedrooms of the Houses is: 6\n",
      "The minimum bedrooms of the Houses is: 1\n"
     ]
    }
   ],
   "source": [
    "#bedrooms column\n",
    "#Mean\n",
    "mean_bedrooms = data['bedrooms'].mean()\n",
    "print(\"The mean of the bedrooms of houses is:\", mean_bedrooms)\n",
    "#Median\n",
    "median_bedrooms = data['bedrooms'].median()\n",
    "print(\"The median of the bedrooms of the houses is:\",median_bedrooms)\n",
    "\n",
    "# maximum\n",
    "Max_bedrooms = data['bedrooms'].max()\n",
    "print(\"The maximum bedrooms of the Houses is:\",Max_bedrooms)\n",
    "\n",
    "#Minimum\n",
    "Min_bedrooms = data['bedrooms'].min()\n",
    "print(\"The minimum bedrooms of the Houses is:\",Min_bedrooms)"
   ]
  },
  {
   "cell_type": "code",
   "execution_count": 72,
   "metadata": {},
   "outputs": [
    {
     "name": "stdout",
     "output_type": "stream",
     "text": [
      "The mean number of stories of the houses is: 1.8076923076923077\n",
      "The median of the stories of the houses is: 2.0\n",
      "The maximum stroies of the Houses is: 4\n",
      "The minimum stories of the Houses is: 1\n"
     ]
    }
   ],
   "source": [
    "#Stories column\n",
    "#Mean\n",
    "mean_stories = data['stories'].mean()\n",
    "print(\"The mean number of stories of the houses is:\", mean_stories)\n",
    "#Median\n",
    "median_stories = data['stories'].median()\n",
    "print(\"The median of the stories of the houses is:\",median_stories)\n",
    "\n",
    "# maximum\n",
    "Max_stories = data['stories'].max()\n",
    "print(\"The maximum stroies of the Houses is:\",Max_stories)\n",
    "\n",
    "#Minimum\n",
    "min_stories = data['stories'].min()\n",
    "print(\"The minimum stories of the Houses is:\",min_stories)"
   ]
  },
  {
   "cell_type": "markdown",
   "metadata": {},
   "source": [
    "Mean, median , maximum and minimum values of the columns whose data types is strings"
   ]
  },
  {
   "cell_type": "markdown",
   "metadata": {},
   "source": [
    "First i will change their values to integers in their original file by changing 'yes' to 1 and 'no' to 0\n",
    "Now that i have changed the value of the columns with strings. Now i can find the mean, max and min. "
   ]
  },
  {
   "cell_type": "markdown",
   "metadata": {},
   "source": [
    "The above output means that many of the houses have recreation."
   ]
  },
  {
   "cell_type": "markdown",
   "metadata": {},
   "source": [
    "**percentage of houses in the data with Driveway, Gas-Heat and Air-conditioning present**"
   ]
  },
  {
   "cell_type": "markdown",
   "metadata": {},
   "source": [
    "**DRIVEWAY**"
   ]
  },
  {
   "cell_type": "code",
   "execution_count": 37,
   "metadata": {},
   "outputs": [
    {
     "name": "stdout",
     "output_type": "stream",
     "text": [
      "The percentage of houses with driveways is: 85.8974358974359 %\n"
     ]
    }
   ],
   "source": [
    "#Houses with Driveways\n",
    "#First get the number of houses with driveways\n",
    "filtered_driveway = data.loc[data['driveway'] == 'yes', 'driveway']\n",
    "\n",
    "#Convert the number to percent\n",
    "percentage_filtered_driveway = len(filtered_driveway) / len(data['driveway']) * 100\n",
    "\n",
    "print(\"The percentage of houses with driveways is:\",percentage_filtered_driveway,\"%\")"
   ]
  },
  {
   "cell_type": "markdown",
   "metadata": {},
   "source": [
    "**GAS_HEATS**"
   ]
  },
  {
   "cell_type": "code",
   "execution_count": 38,
   "metadata": {},
   "outputs": [
    {
     "name": "stdout",
     "output_type": "stream",
     "text": [
      "The percentage of houses with gasheat is: 4.5787545787545785 %\n"
     ]
    }
   ],
   "source": [
    "#Houses with gasheat\n",
    "#First get the number of houses with gasheat\n",
    "filtered_gasheat = data.loc[data['gasheat'] == 'yes', 'gasheat']\n",
    "\n",
    "#Convert the number to percent\n",
    "percentage_filtered_gasheat = len(filtered_gasheat) / len(data['gasheat']) * 100\n",
    "\n",
    "print(\"The percentage of houses with gasheat is:\",percentage_filtered_gasheat,\"%\")"
   ]
  },
  {
   "cell_type": "markdown",
   "metadata": {},
   "source": [
    "**AIR_CONDITIONING**"
   ]
  },
  {
   "cell_type": "code",
   "execution_count": 39,
   "metadata": {},
   "outputs": [
    {
     "name": "stdout",
     "output_type": "stream",
     "text": [
      "The percentage of houses with aircon is: 31.684981684981683 %\n"
     ]
    }
   ],
   "source": [
    "#Houses with airconditioning\n",
    "#First get the number of houses with airconditioning\n",
    "filtered_aircon = data.loc[data['aircon'] == 'yes', 'aircon']\n",
    "\n",
    "#Convert the number to percent\n",
    "percentage_filtered_aircon = len(filtered_aircon) / len(data['aircon']) * 100\n",
    "\n",
    "print(\"The percentage of houses with aircon is:\",percentage_filtered_aircon,\"%\")"
   ]
  },
  {
   "cell_type": "markdown",
   "metadata": {},
   "source": [
    "**RECREATION**"
   ]
  },
  {
   "cell_type": "code",
   "execution_count": 79,
   "metadata": {},
   "outputs": [
    {
     "name": "stdout",
     "output_type": "stream",
     "text": [
      "The percentage of of houses with recreation is 17.765567765567766 %\n",
      "The percentage of houses with  no recreations is : 82.23443223443223 %\n"
     ]
    }
   ],
   "source": [
    "#Find the number of houses with recreations\n",
    "filtered_recreation_yes = data.loc[data['recreation'] == 1, 'recreation']\n",
    "\n",
    "#Convert the numbers into percentage\n",
    "percentage_filtered_recreation_yes = len(filtered_recreation_yes) / len(data['recreation']) * 100\n",
    "print(\"The percentage of of houses with recreation is\",percentage_filtered_recreation_yes,\"%\")\n",
    "\n",
    "#Find the number of houses with no recreations\n",
    "filtered_recreation_no = data.loc[data['recreation'] == 0, 'recreation']\n",
    "\n",
    "#Convert the number into percentage\n",
    "percentage_filtered_recreation_no = len(filtered_recreation_no) / len(data['recreation']) * 100\n",
    "print(\"The percentage of houses with  no recreations is :\",percentage_filtered_recreation_no, \"%\")"
   ]
  },
  {
   "cell_type": "markdown",
   "metadata": {},
   "source": [
    "**FULL-BASE**"
   ]
  },
  {
   "cell_type": "code",
   "execution_count": 80,
   "metadata": {},
   "outputs": [
    {
     "name": "stdout",
     "output_type": "stream",
     "text": [
      "The percentage of houses with fullbase is 34.98168498168498 %\n",
      "The percentage of houses with  no fullbase is : 65.01831501831502 %\n"
     ]
    }
   ],
   "source": [
    "#Find the number of houses with fullbase\n",
    "filtered_fullbase_yes = data.loc[data['fullbase'] == 1, 'fullbase']\n",
    "\n",
    "#Convert the numbers into percentage\n",
    "percentage_filtered_fullbase_yes = len(filtered_fullbase_yes) / len(data['fullbase']) * 100\n",
    "print(\"The percentage of houses with fullbase is\",percentage_filtered_fullbase_yes,\"%\")\n",
    "\n",
    "#Find the number of houses with no recreations\n",
    "filtered_fullbase_no = data.loc[data['fullbase'] == 0, 'fullbase']\n",
    "\n",
    "#Convert the number into percentage\n",
    "percentage_filtered_fullbase_no = len(filtered_fullbase_no) / len(data['fullbase']) * 100\n",
    "print(\"The percentage of houses with  no fullbase is :\",percentage_filtered_fullbase_no, \"%\")"
   ]
  },
  {
   "cell_type": "markdown",
   "metadata": {},
   "source": [
    "**LINEAR REGRESSION MODEL THAT PREDICTS WHETHER THE PRICE OF THE HOUSE IS DETERMINED BY THE NUMBER OF BEDROOMS**"
   ]
  },
  {
   "cell_type": "code",
   "execution_count": 59,
   "metadata": {},
   "outputs": [
    {
     "name": "stdout",
     "output_type": "stream",
     "text": [
      "co_efficient 13269.980086649637\n",
      "intercept: 28773.432673469302\n",
      "R-Square:  0.13428366667190073\n",
      "Mean Square Error:  616153441.1715435\n"
     ]
    }
   ],
   "source": [
    "#Importing the neccesary libraries\n",
    "\n",
    "from sklearn import linear_model\n",
    "from sklearn.model_selection import train_test_split\n",
    "from sklearn.metrics import mean_squared_error, r2_score\n",
    "\n",
    "#independent variable\n",
    "X = data[['bedrooms']]\n",
    "y= data['price']\n",
    "\n",
    "#Create a regresion model\n",
    "model = linear_model.LinearRegression()\n",
    "\n",
    "#train the regressin model\n",
    "model.fit(X, y)\n",
    "\n",
    "#print the coefficient and the intercept\n",
    "print(\"co_efficient\",model.coef_[0])\n",
    "print(\"intercept:\",model.intercept_)\n",
    "\n",
    "#Make predictions in the model\n",
    "y_pred = model.predict(X)\n",
    "\n",
    "#Find the mean squared error an the square error\n",
    "mse = mean_squared_error(y, y_pred)\n",
    "r2 = r2_score(y, y_pred)\n",
    "\n",
    "#Print the mean square error and the square error\n",
    "print(\"R-Square: \",r2)\n",
    "print(\"Mean Square Error: \",mse)\n",
    "\n",
    "print(classification_report(y_test, y_pred))"
   ]
  },
  {
   "cell_type": "code",
   "execution_count": 54,
   "metadata": {},
   "outputs": [
    {
     "name": "stdout",
     "output_type": "stream",
     "text": [
      "P-value for the coefficient: 8.533170549383786e-19\n"
     ]
    }
   ],
   "source": [
    "import statsmodels.api as sm\n",
    "\n",
    "# Assuming you've already created and trained the model as shown in your code\n",
    "# model = linear_model.LinearRegression()\n",
    "# model.fit(X, y)\n",
    "\n",
    "# Add a constant (intercept) to the independent variable\n",
    "X = sm.add_constant(X)\n",
    "\n",
    "# Create and fit an OLS (Ordinary Least Squares) model\n",
    "model = sm.OLS(y, X).fit()\n",
    "\n",
    "# Get the p-value for the coefficient of bedrooms\n",
    "p_value = model.pvalues['bedrooms']\n",
    "\n",
    "# Print the p-value\n",
    "print(\"P-value for the coefficient:\", p_value)\n"
   ]
  },
  {
   "cell_type": "markdown",
   "metadata": {},
   "source": [
    "The coefficeint means that for every one bedroom addes to the house, the price increases by 13269 of the currency used, since it is a positive currency\n",
    "\n",
    "The intercept means that the price of the house when the bedrooms are 0.\n",
    "\n",
    "With a p-value of 8, there is a very little evidence to reject the null hypothensis. This only leaves us with the chance of alterntive hypothensis that states that there is a significant change in price of the houses as the number of bedrooms increases.\n",
    "\n",
    "A low r-square value like this (0.1342836666719007) suggests that the number of bedrooms alone may not be string to predict the price pf houses. There are likely t be many other facts not considered in our model that influence house prices."
   ]
  },
  {
   "cell_type": "markdown",
   "metadata": {},
   "source": [
    "**multiple linear regression model by including all variables as predictors of house prices (response variable) and observe the effect on the house prices.**"
   ]
  },
  {
   "cell_type": "code",
   "execution_count": 67,
   "metadata": {},
   "outputs": [
    {
     "name": "stdout",
     "output_type": "stream",
     "text": [
      "R-Square:  1.0\n",
      "Mean Square Error:  3.741864298239878e-22\n"
     ]
    }
   ],
   "source": [
    "# Import the required libraries\n",
    "import pandas as pd\n",
    "from sklearn import linear_model\n",
    "from sklearn.model_selection import train_test_split\n",
    "from sklearn.metrics import mean_squared_error, r2_score\n",
    "\n",
    "# Change the values of the columns that have strings into integers to simplify learning of the model.\n",
    "house = pd.get_dummies(data, columns=['driveway', 'recreation', 'fullbase', 'gasheat', 'aircon', 'prefer'])\n",
    "\n",
    "# Independent variable\n",
    "x = pd.concat([data[['lotsize', 'bedrooms', 'bathrooms', 'stories', 'garage']], house], axis=1)\n",
    "y = data['price']\n",
    "\n",
    "# Split the data into train and test (80% training and 20% testing)\n",
    "x_train, x_test, y_train, y_test = train_test_split(x, y, test_size=0.2, random_state=42)\n",
    "\n",
    "# Create a regression model\n",
    "model1 = linear_model.LinearRegression()\n",
    "\n",
    "# Train the model\n",
    "model1.fit(x_train, y_train)\n",
    "\n",
    "# Test the model\n",
    "y_pred1 = model1.predict(x_test)\n",
    "\n",
    "#Find the mean square error and the square error\n",
    "\n",
    "mse1 = mean_squared_error(y_test, y_pred1)\n",
    "r2_1 = r2_score(y_test, y_pred1)\n",
    "\n",
    "#Print them\n",
    "print(\"R-Square: \",r2_1)\n",
    "print(\"Mean Square Error: \",mse1)"
   ]
  }
 ],
 "metadata": {
  "language_info": {
   "name": "python"
  }
 },
 "nbformat": 4,
 "nbformat_minor": 2
}
